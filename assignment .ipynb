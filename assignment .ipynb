{
    "cells": [
        {
            "cell_type": "markdown",
            "metadata": {
                "collapsed": true
            },
            "source": "<h1>My Jupitor Notebook on IBM Watson Studio</h1>"
        },
        {
            "cell_type": "markdown",
            "metadata": {},
            "source": "<strong>chirag baldota</strong><br>\nmaster of computer application"
        },
        {
            "cell_type": "markdown",
            "metadata": {},
            "source": "<i>I am interested in data science because its sexiest job of 21st century.</i>"
        },
        {
            "cell_type": "markdown",
            "metadata": {},
            "source": "<h3>Printing hello world</h3>"
        },
        {
            "cell_type": "code",
            "execution_count": 1,
            "metadata": {},
            "outputs": [
                {
                    "name": "stdout",
                    "output_type": "stream",
                    "text": "hello world\n"
                }
            ],
            "source": "print(\"hello world\")"
        },
        {
            "cell_type": "markdown",
            "metadata": {},
            "source": "<ul>\n<li>data science</li>\n<li>machine learning</li>\n<li>deep learning</li>\n<li>neural network</li>\n<li>big data</li>\n</ul>\n\n\n"
        },
        {
            "cell_type": "markdown",
            "metadata": {},
            "source": "<ol>\n<li>coursera</li>\n<li>udemy</li>\n<li>edx</li>\n<li>codeacademy</li>\n<li>youtube</li>\n</ol>"
        },
        {
            "cell_type": "markdown",
            "metadata": {},
            "source": "<table style=\"width:100%\">\n  <tr>\n    <th>Firstname</th>\n    <th>Lastname</th>\n    <th>Age</th>\n  </tr>\n  <tr>\n    <td>chirag</td>\n    <td>jain</td>\n    <td>21</td>\n  </tr>\n  <tr>\n    <td>aditya</td>\n    <td>lalwani</td>\n    <td>22</td>\n  </tr>\n</table>"
        }
    ],
    "metadata": {
        "kernelspec": {
            "display_name": "Python 3.7",
            "language": "python",
            "name": "python3"
        },
        "language_info": {
            "codemirror_mode": {
                "name": "ipython",
                "version": 3
            },
            "file_extension": ".py",
            "mimetype": "text/x-python",
            "name": "python",
            "nbconvert_exporter": "python",
            "pygments_lexer": "ipython3",
            "version": "3.7.10"
        }
    },
    "nbformat": 4,
    "nbformat_minor": 1
}